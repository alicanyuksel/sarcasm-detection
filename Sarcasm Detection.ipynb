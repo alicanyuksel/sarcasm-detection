{
 "cells": [
  {
   "cell_type": "code",
   "execution_count": 5,
   "id": "knowing-decline",
   "metadata": {},
   "outputs": [],
   "source": [
    "import json\n",
    "import tensorflow as tf\n",
    "\n",
    "from tensorflow.keras.preprocessing.text import Tokenizer\n",
    "from tensorflow.keras.preprocessing.sequence import pad_sequences"
   ]
  },
  {
   "cell_type": "code",
   "execution_count": 6,
   "id": "manufactured-minimum",
   "metadata": {},
   "outputs": [],
   "source": [
    "vocab_size = 10000\n",
    "embedding_dim = 16\n",
    "max_length = 100\n",
    "trunc_type='post'\n",
    "padding_type='post'\n",
    "oov_tok = \"<OOV>\"\n",
    "training_size = 20000"
   ]
  },
  {
   "cell_type": "code",
   "execution_count": 8,
   "id": "beneficial-romantic",
   "metadata": {},
   "outputs": [],
   "source": [
    "with open(\"./data/sarcasm.json\", 'r') as f:\n",
    "    datastore = json.load(f)\n",
    "\n",
    "sentences = []\n",
    "labels = []\n",
    "\n",
    "for item in datastore:\n",
    "    sentences.append(item['headline'])\n",
    "    labels.append(item['is_sarcastic'])"
   ]
  },
  {
   "cell_type": "code",
   "execution_count": 9,
   "id": "touched-observation",
   "metadata": {},
   "outputs": [],
   "source": [
    "training_sentences = sentences[0:training_size]\n",
    "testing_sentences = sentences[training_size:]\n",
    "training_labels = labels[0:training_size]\n",
    "testing_labels = labels[training_size:]"
   ]
  },
  {
   "cell_type": "code",
   "execution_count": 10,
   "id": "north-partition",
   "metadata": {},
   "outputs": [],
   "source": [
    "tokenizer = Tokenizer(num_words=vocab_size, oov_token=oov_tok)\n",
    "tokenizer.fit_on_texts(training_sentences)\n",
    "\n",
    "word_index = tokenizer.word_index\n",
    "\n",
    "training_sequences = tokenizer.texts_to_sequences(training_sentences)\n",
    "training_padded = pad_sequences(training_sequences, maxlen=max_length, padding=padding_type, truncating=trunc_type)\n",
    "\n",
    "testing_sequences = tokenizer.texts_to_sequences(testing_sentences)\n",
    "testing_padded = pad_sequences(testing_sequences, maxlen=max_length, padding=padding_type, truncating=trunc_type)"
   ]
  },
  {
   "cell_type": "code",
   "execution_count": 11,
   "id": "chemical-talent",
   "metadata": {},
   "outputs": [],
   "source": [
    "# Need this block to get it to work with TensorFlow 2.x\n",
    "import numpy as np\n",
    "training_padded = np.array(training_padded)\n",
    "training_labels = np.array(training_labels)\n",
    "testing_padded = np.array(testing_padded)\n",
    "testing_labels = np.array(testing_labels)"
   ]
  },
  {
   "cell_type": "code",
   "execution_count": 12,
   "id": "endless-butterfly",
   "metadata": {},
   "outputs": [],
   "source": [
    "model = tf.keras.Sequential([\n",
    "    tf.keras.layers.Embedding(vocab_size, embedding_dim, input_length=max_length),\n",
    "    tf.keras.layers.GlobalAveragePooling1D(),\n",
    "    tf.keras.layers.Dense(24, activation='relu'),\n",
    "    tf.keras.layers.Dense(1, activation='sigmoid')\n",
    "])\n",
    "model.compile(loss='binary_crossentropy',optimizer='adam',metrics=['accuracy'])"
   ]
  },
  {
   "cell_type": "code",
   "execution_count": 13,
   "id": "induced-compatibility",
   "metadata": {},
   "outputs": [
    {
     "name": "stdout",
     "output_type": "stream",
     "text": [
      "Model: \"sequential\"\n",
      "_________________________________________________________________\n",
      "Layer (type)                 Output Shape              Param #   \n",
      "=================================================================\n",
      "embedding (Embedding)        (None, 100, 16)           160000    \n",
      "_________________________________________________________________\n",
      "global_average_pooling1d (Gl (None, 16)                0         \n",
      "_________________________________________________________________\n",
      "dense (Dense)                (None, 24)                408       \n",
      "_________________________________________________________________\n",
      "dense_1 (Dense)              (None, 1)                 25        \n",
      "=================================================================\n",
      "Total params: 160,433\n",
      "Trainable params: 160,433\n",
      "Non-trainable params: 0\n",
      "_________________________________________________________________\n"
     ]
    }
   ],
   "source": [
    "model.summary()"
   ]
  },
  {
   "cell_type": "code",
   "execution_count": 14,
   "id": "difficult-penguin",
   "metadata": {},
   "outputs": [
    {
     "name": "stdout",
     "output_type": "stream",
     "text": [
      "Epoch 1/30\n",
      "625/625 - 2s - loss: 0.6720 - accuracy: 0.5666 - val_loss: 0.6151 - val_accuracy: 0.7277\n",
      "Epoch 2/30\n",
      "625/625 - 1s - loss: 0.4632 - accuracy: 0.8170 - val_loss: 0.3956 - val_accuracy: 0.8380\n",
      "Epoch 3/30\n",
      "625/625 - 1s - loss: 0.3244 - accuracy: 0.8706 - val_loss: 0.3600 - val_accuracy: 0.8469\n",
      "Epoch 4/30\n",
      "625/625 - 1s - loss: 0.2701 - accuracy: 0.8932 - val_loss: 0.3443 - val_accuracy: 0.8565\n",
      "Epoch 5/30\n",
      "625/625 - 1s - loss: 0.2330 - accuracy: 0.9110 - val_loss: 0.3643 - val_accuracy: 0.8425\n",
      "Epoch 6/30\n",
      "625/625 - 1s - loss: 0.2058 - accuracy: 0.9208 - val_loss: 0.3500 - val_accuracy: 0.8498\n",
      "Epoch 7/30\n",
      "625/625 - 2s - loss: 0.1834 - accuracy: 0.9306 - val_loss: 0.3636 - val_accuracy: 0.8511\n",
      "Epoch 8/30\n",
      "625/625 - 2s - loss: 0.1641 - accuracy: 0.9396 - val_loss: 0.3683 - val_accuracy: 0.8548\n",
      "Epoch 9/30\n",
      "625/625 - 2s - loss: 0.1488 - accuracy: 0.9440 - val_loss: 0.3834 - val_accuracy: 0.8538\n",
      "Epoch 10/30\n",
      "625/625 - 1s - loss: 0.1342 - accuracy: 0.9520 - val_loss: 0.4026 - val_accuracy: 0.8498\n",
      "Epoch 11/30\n",
      "625/625 - 1s - loss: 0.1238 - accuracy: 0.9560 - val_loss: 0.4422 - val_accuracy: 0.8405\n",
      "Epoch 12/30\n",
      "625/625 - 2s - loss: 0.1135 - accuracy: 0.9597 - val_loss: 0.4441 - val_accuracy: 0.8483\n",
      "Epoch 13/30\n",
      "625/625 - 2s - loss: 0.1031 - accuracy: 0.9650 - val_loss: 0.4755 - val_accuracy: 0.8413\n",
      "Epoch 14/30\n",
      "625/625 - 1s - loss: 0.0950 - accuracy: 0.9675 - val_loss: 0.4896 - val_accuracy: 0.8432\n",
      "Epoch 15/30\n",
      "625/625 - 2s - loss: 0.0865 - accuracy: 0.9704 - val_loss: 0.5155 - val_accuracy: 0.8427\n",
      "Epoch 16/30\n",
      "625/625 - 2s - loss: 0.0794 - accuracy: 0.9736 - val_loss: 0.5575 - val_accuracy: 0.8369\n",
      "Epoch 17/30\n",
      "625/625 - 1s - loss: 0.0727 - accuracy: 0.9766 - val_loss: 0.5928 - val_accuracy: 0.8292\n",
      "Epoch 18/30\n",
      "625/625 - 1s - loss: 0.0677 - accuracy: 0.9783 - val_loss: 0.6092 - val_accuracy: 0.8323\n",
      "Epoch 19/30\n",
      "625/625 - 1s - loss: 0.0624 - accuracy: 0.9804 - val_loss: 0.6394 - val_accuracy: 0.8328\n",
      "Epoch 20/30\n",
      "625/625 - 1s - loss: 0.0605 - accuracy: 0.9809 - val_loss: 0.6690 - val_accuracy: 0.8323\n",
      "Epoch 21/30\n",
      "625/625 - 1s - loss: 0.0532 - accuracy: 0.9829 - val_loss: 0.7144 - val_accuracy: 0.8277\n",
      "Epoch 22/30\n",
      "625/625 - 1s - loss: 0.0480 - accuracy: 0.9865 - val_loss: 0.7348 - val_accuracy: 0.8278\n",
      "Epoch 23/30\n",
      "625/625 - 1s - loss: 0.0452 - accuracy: 0.9862 - val_loss: 0.7705 - val_accuracy: 0.8225\n",
      "Epoch 24/30\n",
      "625/625 - 1s - loss: 0.0429 - accuracy: 0.9863 - val_loss: 0.8000 - val_accuracy: 0.8265\n",
      "Epoch 25/30\n",
      "625/625 - 1s - loss: 0.0378 - accuracy: 0.9897 - val_loss: 0.8373 - val_accuracy: 0.8247\n",
      "Epoch 26/30\n",
      "625/625 - 2s - loss: 0.0369 - accuracy: 0.9889 - val_loss: 0.9256 - val_accuracy: 0.8189\n",
      "Epoch 27/30\n",
      "625/625 - 2s - loss: 0.0332 - accuracy: 0.9907 - val_loss: 0.9243 - val_accuracy: 0.8159\n",
      "Epoch 28/30\n",
      "625/625 - 2s - loss: 0.0323 - accuracy: 0.9908 - val_loss: 0.9504 - val_accuracy: 0.8185\n",
      "Epoch 29/30\n",
      "625/625 - 2s - loss: 0.0290 - accuracy: 0.9917 - val_loss: 0.9805 - val_accuracy: 0.8170\n",
      "Epoch 30/30\n",
      "625/625 - 2s - loss: 0.0256 - accuracy: 0.9936 - val_loss: 1.0230 - val_accuracy: 0.8165\n"
     ]
    }
   ],
   "source": [
    "num_epochs = 30\n",
    "history = model.fit(training_padded,\n",
    "                    training_labels,\n",
    "                    epochs=num_epochs, \n",
    "                    validation_data=(testing_padded, testing_labels), \n",
    "                    verbose=2)"
   ]
  },
  {
   "cell_type": "code",
   "execution_count": 18,
   "id": "fabulous-glenn",
   "metadata": {},
   "outputs": [
    {
     "data": {
      "image/png": "[encoded data removed]",
      "text/plain": [
       "<Figure size 432x288 with 1 Axes>"
      ]
     },
     "metadata": {
      "needs_background": "light"
     },
     "output_type": "display_data"
    },
    {
     "data": {
      "image/png": "[encoded data removed]",
      "text/plain": [
       "<Figure size 432x288 with 1 Axes>"
      ]
     },
     "metadata": {
      "needs_background": "light"
     },
     "output_type": "display_data"
    }
   ],
   "source": [
    "import matplotlib.pyplot as plt\n",
    "\n",
    "\n",
    "def plot_graphs(history, string):\n",
    "    plt.plot(history.history[string])\n",
    "    plt.plot(history.history['val_'+string])\n",
    "    plt.xlabel(\"Epochs\")\n",
    "    plt.ylabel(string)\n",
    "    plt.legend([string, 'val_'+string])\n",
    "    plt.show()\n",
    "  \n",
    "\n",
    "plot_graphs(history, \"accuracy\")\n",
    "plot_graphs(history, \"loss\")"
   ]
  },
  {
   "cell_type": "code",
   "execution_count": 24,
   "id": "fixed-source",
   "metadata": {},
   "outputs": [
    {
     "name": "stdout",
     "output_type": "stream",
     "text": [
      "[0 0 0]\n"
     ]
    }
   ],
   "source": [
    "sentence = [\"mom starting to fear son's web series closest thing she will have to grandchild\",\"granny starting to fear spiders in the garden might be real\", \"game of thrones season finale showing this sunday night\"]\n",
    "sequences = tokenizer.texts_to_sequences(sentence)\n",
    "padded = pad_sequences(sequences, maxlen=max_length, padding=padding_type, truncating=trunc_type)\n",
    "output_logits = model.predict(padded)\n",
    "\n",
    "\n",
    "pred = np.argmax(output_logits, axis=1)\n",
    "print(pred)"
   ]
  },
  {
   "cell_type": "code",
   "execution_count": null,
   "id": "clinical-decade",
   "metadata": {},
   "outputs": [],
   "source": []
  }
 ],
 "metadata": {
  "kernelspec": {
   "display_name": "Python 3",
   "language": "python",
   "name": "python3"
  },
  "language_info": {
   "codemirror_mode": {
    "name": "ipython",
    "version": 3
   },
   "file_extension": ".py",
   "mimetype": "text/x-python",
   "name": "python",
   "nbconvert_exporter": "python",
   "pygments_lexer": "ipython3",
   "version": "3.8.6"
  }
 },
 "nbformat": 4,
 "nbformat_minor": 5
}
